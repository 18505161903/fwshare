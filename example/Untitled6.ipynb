{
 "cells": [
  {
   "cell_type": "markdown",
   "metadata": {},
   "source": [
    "【AT策略】机器学习在商品期货市场资金流策略中的应用——点宽精选 资金流向的建模 【AT策略】机器学习在商品期货市场资金流策略中的应用——点宽精选\n",
    "资金流向定义及期货市场资金流向分析\n",
    "\n",
    "设计资金流向指标的主要目的是测算推动期货合约价格涨跌的力量强弱，其定义规则是：将主动性看多期货合约产生的金额数认定为推动价格上涨的力量，这部分的金额被定义为资金流入；将主动性看空期货合约产生的金额数认定为推动价格下跌的力量，这部分的金额就被定义为资金流出。资金流向指标能够帮助投资者透过价格涨跌迷雾看清市场交易对手特别是主力交易者的动向。目前，针对于股票市场的资金流向指标主要有三种计算方法。最常用的是Bennett 提出的经典计算模型，该模型是根据市场的交易价格来判断资金是流入还是流出，其计算公式如下：\n",
    "\n",
    "【AT策略】机器学习在商品期货市场资金流策略中的应用——点宽精选"
   ]
  },
  {
   "cell_type": "code",
   "execution_count": null,
   "metadata": {},
   "outputs": [],
   "source": []
  }
 ],
 "metadata": {
  "kernelspec": {
   "display_name": "Python 3",
   "language": "python",
   "name": "python3"
  },
  "language_info": {
   "codemirror_mode": {
    "name": "ipython",
    "version": 3
   },
   "file_extension": ".py",
   "mimetype": "text/x-python",
   "name": "python",
   "nbconvert_exporter": "python",
   "pygments_lexer": "ipython3",
   "version": "3.7.2"
  },
  "toc": {
   "base_numbering": 1,
   "nav_menu": {},
   "number_sections": true,
   "sideBar": true,
   "skip_h1_title": false,
   "title_cell": "Table of Contents",
   "title_sidebar": "Contents",
   "toc_cell": false,
   "toc_position": {},
   "toc_section_display": true,
   "toc_window_display": true
  }
 },
 "nbformat": 4,
 "nbformat_minor": 2
}
